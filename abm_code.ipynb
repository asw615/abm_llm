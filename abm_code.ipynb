{
 "cells": [
  {
   "cell_type": "markdown",
   "metadata": {},
   "source": [
    "### SETUP ###"
   ]
  },
  {
   "cell_type": "code",
   "execution_count": 1,
   "metadata": {},
   "outputs": [],
   "source": [
    "import os"
   ]
  },
  {
   "cell_type": "code",
   "execution_count": 3,
   "metadata": {},
   "outputs": [],
   "source": [
    "import openai\n",
    "import json\n",
    "import random\n",
    "import time\n",
    "import pprint"
   ]
  },
  {
   "cell_type": "code",
   "execution_count": 1,
   "metadata": {},
   "outputs": [],
   "source": [
    "import openai\n",
    "from openai import OpenAI\n"
   ]
  },
  {
   "cell_type": "markdown",
   "metadata": {},
   "source": [
    "### CREATING FUNCTIONS ###"
   ]
  },
  {
   "cell_type": "code",
   "execution_count": 11,
   "metadata": {},
   "outputs": [
    {
     "data": {
      "text/plain": [
       "'Hello! How can I assist you today?'"
      ]
     },
     "execution_count": 11,
     "metadata": {},
     "output_type": "execute_result"
    }
   ],
   "source": [
    "\n",
    "def interact(prompt):\n",
    "    chat_completion = client.chat.completions.create(\n",
    "        messages=[\n",
    "            {\n",
    "                'role': 'user',\n",
    "                'content': prompt\n",
    "            }\n",
    "        ],\n",
    "        model=model\n",
    "    )\n",
    "    return chat_completion.choices[0].message.content\n",
    "\n",
    "interact('hi')\n",
    "\n",
    "\n"
   ]
  },
  {
   "cell_type": "markdown",
   "metadata": {},
   "source": [
    "## Testing 1-to-1 interaction"
   ]
  },
  {
   "cell_type": "markdown",
   "metadata": {},
   "source": []
  },
  {
   "cell_type": "code",
   "execution_count": 13,
   "metadata": {},
   "outputs": [
    {
     "ename": "NameError",
     "evalue": "name 'interactions' is not defined",
     "output_type": "error",
     "traceback": [
      "\u001b[0;31m---------------------------------------------------------------------------\u001b[0m",
      "\u001b[0;31mNameError\u001b[0m                                 Traceback (most recent call last)",
      "\u001b[1;32m/work/Home/sheesh.ipynb Cell 11\u001b[0m line \u001b[0;36m2\n\u001b[1;32m      <a href='vscode-notebook-cell://app-5035878-0.cloud.sdu.dk/work/Home/sheesh.ipynb#X20sdnNjb2RlLXJlbW90ZQ%3D%3D?line=0'>1</a>\u001b[0m \u001b[39m# Take turns autonomously interacting in a round-robin fashion\u001b[39;00m\n\u001b[0;32m----> <a href='vscode-notebook-cell://app-5035878-0.cloud.sdu.dk/work/Home/sheesh.ipynb#X20sdnNjb2RlLXJlbW90ZQ%3D%3D?line=1'>2</a>\u001b[0m \u001b[39mfor\u001b[39;00m i \u001b[39min\u001b[39;00m \u001b[39mrange\u001b[39m(interactions):\n\u001b[1;32m      <a href='vscode-notebook-cell://app-5035878-0.cloud.sdu.dk/work/Home/sheesh.ipynb#X20sdnNjb2RlLXJlbW90ZQ%3D%3D?line=2'>3</a>\u001b[0m     \u001b[39m# Query Seller\u001b[39;00m\n\u001b[1;32m      <a href='vscode-notebook-cell://app-5035878-0.cloud.sdu.dk/work/Home/sheesh.ipynb#X20sdnNjb2RlLXJlbW90ZQ%3D%3D?line=3'>4</a>\u001b[0m     seller_response \u001b[39m=\u001b[39m interact(seller[\u001b[39m-\u001b[39m\u001b[39m1\u001b[39m][\u001b[39m\"\u001b[39m\u001b[39mcontent\u001b[39m\u001b[39m\"\u001b[39m])\n\u001b[1;32m      <a href='vscode-notebook-cell://app-5035878-0.cloud.sdu.dk/work/Home/sheesh.ipynb#X20sdnNjb2RlLXJlbW90ZQ%3D%3D?line=4'>5</a>\u001b[0m     \u001b[39m# Record responses\u001b[39;00m\n",
      "\u001b[0;31mNameError\u001b[0m: name 'interactions' is not defined"
     ]
    }
   ],
   "source": [
    "# The number of back-and-forths before terminating the simulation\n",
    "# Manually set to 4 because negotiation usually done after 4 back-and-forths\n",
    "interactions = 4 \n",
    "\n",
    "# Define personality\n",
    "seller = [{\"role\": \"system\", \"content\": \"You and another person have been arrested. Your name is AC. The police has given you a deal: They want you to testify. If you choose this and the other person does not, you will serve 0 years of jail while the other person serves three years. If you both testify, you will both serve two years. If none of you testify, you both will serve one year. \"}]\n",
    "\n",
    "buyer = [{\"role\": \"system\", \"content\": \"You and another person have been arrested. Your name is Lelia. The police has given you a deal: They want you to testify. If you choose this and the other person does not, you will serve 0 years of jail while the other person serves three years. If you both testify, you will both serve two years. If none of you testify, you both will serve one year. \"}]\n",
    "# Initiate conversation\n",
    "# Need to append seed question to both seller and buyer conversation history\n",
    "\n",
    "seller.append({\"role\": \"user\", \"content\": \"Let's talk about our situation.\"})\n",
    "buyer.append({\"role\": \"assistant\", \"content\": \"Let's talk about our situation.\"})\n",
    "\n",
    "# Take turns autonomously interacting in a round-robin fashion\n",
    "for i in range(interactions):\n",
    "    # Query Seller\n",
    "    seller_response = interact(seller)\n",
    "    # Record responses\n",
    "    seller.append({\"role\": \"assistant\", \"content\": seller_response[\"choices\"][0][\"message\"][\"content\"]})\n",
    "    buyer.append({\"role\": \"user\", \"content\": seller_response[\"choices\"][0][\"message\"][\"content\"]})\n",
    "    \n",
    "    # Query Buyer\n",
    "    buyer_response = interact(buyer)\n",
    "    # Record responses\n",
    "    seller.append({\"role\": \"user\", \"content\": buyer_response[\"choices\"][0][\"message\"][\"content\"]})\n",
    "    buyer.append({\"role\": \"assistant\", \"content\": buyer_response[\"choices\"][0][\"message\"][\"content\"]})"
   ]
  },
  {
   "cell_type": "code",
   "execution_count": 12,
   "metadata": {},
   "outputs": [
    {
     "ename": "NameError",
     "evalue": "name 'client2' is not defined",
     "output_type": "error",
     "traceback": [
      "\u001b[0;31m---------------------------------------------------------------------------\u001b[0m",
      "\u001b[0;31mNameError\u001b[0m                                 Traceback (most recent call last)",
      "\u001b[1;32m/work/Home/sheesh.ipynb Cell 12\u001b[0m line \u001b[0;36m2\n\u001b[1;32m     <a href='vscode-notebook-cell://app-5035878-0.cloud.sdu.dk/work/Home/sheesh.ipynb#X21sdnNjb2RlLXJlbW90ZQ%3D%3D?line=23'>24</a>\u001b[0m output_content \u001b[39m=\u001b[39m chat_completion\u001b[39m.\u001b[39mchoices[\u001b[39m0\u001b[39m]\u001b[39m.\u001b[39mmessage\u001b[39m.\u001b[39mcontent\n\u001b[1;32m     <a href='vscode-notebook-cell://app-5035878-0.cloud.sdu.dk/work/Home/sheesh.ipynb#X21sdnNjb2RlLXJlbW90ZQ%3D%3D?line=25'>26</a>\u001b[0m \u001b[39m# Pass the output to the second function\u001b[39;00m\n\u001b[0;32m---> <a href='vscode-notebook-cell://app-5035878-0.cloud.sdu.dk/work/Home/sheesh.ipynb#X21sdnNjb2RlLXJlbW90ZQ%3D%3D?line=26'>27</a>\u001b[0m chat_completion2 \u001b[39m=\u001b[39m client2\u001b[39m.\u001b[39mchat\u001b[39m.\u001b[39mcompletions\u001b[39m.\u001b[39mcreate(\n\u001b[1;32m     <a href='vscode-notebook-cell://app-5035878-0.cloud.sdu.dk/work/Home/sheesh.ipynb#X21sdnNjb2RlLXJlbW90ZQ%3D%3D?line=27'>28</a>\u001b[0m     messages\u001b[39m=\u001b[39m[\n\u001b[1;32m     <a href='vscode-notebook-cell://app-5035878-0.cloud.sdu.dk/work/Home/sheesh.ipynb#X21sdnNjb2RlLXJlbW90ZQ%3D%3D?line=28'>29</a>\u001b[0m         {   \n\u001b[1;32m     <a href='vscode-notebook-cell://app-5035878-0.cloud.sdu.dk/work/Home/sheesh.ipynb#X21sdnNjb2RlLXJlbW90ZQ%3D%3D?line=29'>30</a>\u001b[0m             \u001b[39m'\u001b[39m\u001b[39mrole\u001b[39m\u001b[39m'\u001b[39m: \u001b[39m'\u001b[39m\u001b[39msystem\u001b[39m\u001b[39m'\u001b[39m,\n\u001b[1;32m     <a href='vscode-notebook-cell://app-5035878-0.cloud.sdu.dk/work/Home/sheesh.ipynb#X21sdnNjb2RlLXJlbW90ZQ%3D%3D?line=30'>31</a>\u001b[0m             \u001b[39m'\u001b[39m\u001b[39mcontent\u001b[39m\u001b[39m'\u001b[39m: \u001b[39m'\u001b[39m\u001b[39mI am a Virgo and will respond and behave accordingly.\u001b[39m\u001b[39m'\u001b[39m,\n\u001b[1;32m     <a href='vscode-notebook-cell://app-5035878-0.cloud.sdu.dk/work/Home/sheesh.ipynb#X21sdnNjb2RlLXJlbW90ZQ%3D%3D?line=31'>32</a>\u001b[0m             \u001b[39m\"\u001b[39m\u001b[39mrole\u001b[39m\u001b[39m\"\u001b[39m: \u001b[39m\"\u001b[39m\u001b[39muser\u001b[39m\u001b[39m\"\u001b[39m,\n\u001b[1;32m     <a href='vscode-notebook-cell://app-5035878-0.cloud.sdu.dk/work/Home/sheesh.ipynb#X21sdnNjb2RlLXJlbW90ZQ%3D%3D?line=32'>33</a>\u001b[0m             \u001b[39m\"\u001b[39m\u001b[39mcontent\u001b[39m\u001b[39m\"\u001b[39m: personality_2 \u001b[39m+\u001b[39m output_content,\n\u001b[1;32m     <a href='vscode-notebook-cell://app-5035878-0.cloud.sdu.dk/work/Home/sheesh.ipynb#X21sdnNjb2RlLXJlbW90ZQ%3D%3D?line=33'>34</a>\u001b[0m         }\n\u001b[1;32m     <a href='vscode-notebook-cell://app-5035878-0.cloud.sdu.dk/work/Home/sheesh.ipynb#X21sdnNjb2RlLXJlbW90ZQ%3D%3D?line=34'>35</a>\u001b[0m     ],\n\u001b[1;32m     <a href='vscode-notebook-cell://app-5035878-0.cloud.sdu.dk/work/Home/sheesh.ipynb#X21sdnNjb2RlLXJlbW90ZQ%3D%3D?line=35'>36</a>\u001b[0m     model\u001b[39m=\u001b[39m\u001b[39m\"\u001b[39m\u001b[39mgpt-3.5-turbo\u001b[39m\u001b[39m\"\u001b[39m,\n\u001b[1;32m     <a href='vscode-notebook-cell://app-5035878-0.cloud.sdu.dk/work/Home/sheesh.ipynb#X21sdnNjb2RlLXJlbW90ZQ%3D%3D?line=36'>37</a>\u001b[0m )\n\u001b[1;32m     <a href='vscode-notebook-cell://app-5035878-0.cloud.sdu.dk/work/Home/sheesh.ipynb#X21sdnNjb2RlLXJlbW90ZQ%3D%3D?line=38'>39</a>\u001b[0m \u001b[39m# Print the conversation for the current iteration\u001b[39;00m\n\u001b[1;32m     <a href='vscode-notebook-cell://app-5035878-0.cloud.sdu.dk/work/Home/sheesh.ipynb#X21sdnNjb2RlLXJlbW90ZQ%3D%3D?line=39'>40</a>\u001b[0m \u001b[39mprint\u001b[39m(\u001b[39mf\u001b[39m\u001b[39m\"\u001b[39m\u001b[39mIteration \u001b[39m\u001b[39m{\u001b[39;00mi\u001b[39m+\u001b[39m\u001b[39m1\u001b[39m\u001b[39m}\u001b[39;00m\u001b[39m:\u001b[39m\u001b[39m\"\u001b[39m)\n",
      "\u001b[0;31mNameError\u001b[0m: name 'client2' is not defined"
     ]
    }
   ],
   "source": [
    "# Assuming you have already defined client and client2\n",
    "\n",
    "# Define the number of iterations\n",
    "num_iterations = 4\n",
    "\n",
    "# Initial input for the first function\n",
    "input_content = \"How are you?\"\n",
    "personality_1 = 'As a Leo,'\n",
    "personality_2 = 'As a Virgo,'\n",
    "for i in range(num_iterations):\n",
    "    # Call the first function\n",
    "    chat_completion = client.chat.completions.create(\n",
    "        messages=[\n",
    "            {   'role': 'system',\n",
    "                'content': 'I am a Leo and will respond and behave accordingly.',\n",
    "                \"role\": \"user\",\n",
    "                \"content\": personality_1 + input_content,\n",
    "            }\n",
    "        ],\n",
    "        model=\"gpt-3.5-turbo\",\n",
    "    )\n",
    "    \n",
    "    # Get the output from the first function\n",
    "    output_content = chat_completion.choices[0].message.content\n",
    "    \n",
    "    # Pass the output to the second function\n",
    "    chat_completion2 = client2.chat.completions.create(\n",
    "        messages=[\n",
    "            {   \n",
    "                'role': 'system',\n",
    "                'content': 'I am a Virgo and will respond and behave accordingly.',\n",
    "                \"role\": \"user\",\n",
    "                \"content\": personality_2 + output_content,\n",
    "            }\n",
    "        ],\n",
    "        model=\"gpt-3.5-turbo\",\n",
    "    )\n",
    "    \n",
    "    # Print the conversation for the current iteration\n",
    "    print(f\"Iteration {i+1}:\")\n",
    "    print(f\"User: {input_content}\")\n",
    "    print(f\"AI: {output_content}\")\n",
    "    \n",
    "    # Update the input for the next iteration\n",
    "    input_content = chat_completion2.choices[0].message.content\n",
    "\n"
   ]
  },
  {
   "cell_type": "markdown",
   "metadata": {},
   "source": [
    "# Trying Paper Code"
   ]
  }
 ],
 "metadata": {
  "kernelspec": {
   "display_name": "Python 3",
   "language": "python",
   "name": "python3"
  },
  "language_info": {
   "codemirror_mode": {
    "name": "ipython",
    "version": 3
   },
   "file_extension": ".py",
   "mimetype": "text/x-python",
   "name": "python",
   "nbconvert_exporter": "python",
   "pygments_lexer": "ipython3",
   "version": "3.10.12"
  }
 },
 "nbformat": 4,
 "nbformat_minor": 2
}
